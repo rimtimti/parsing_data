{
 "cells": [
  {
   "cell_type": "markdown",
   "metadata": {},
   "source": [
    "Загрузите датасет tweets.csv в pandas DataFrame.\n",
    "\n",
    "Выберите подмножество данных для маркировки (10% от датасета).\n",
    "\n",
    "Разметьте выбранное подмножество вручную с помощью Label Studio.\n",
    "\n",
    "Сохраните размеченные вручную данные вместе с исходным датасетом."
   ]
  },
  {
   "cell_type": "code",
   "execution_count": null,
   "metadata": {},
   "outputs": [],
   "source": [
    "import pandas as pd\n",
    "\n",
    "data = pd.read_csv(\"tweets.csv\", engine=\"python\", encoding=\"utf-8\", on_bad_lines=\"skip\", encoding_errors=\"ignore\")\n",
    "\n",
    "data.head()"
   ]
  },
  {
   "cell_type": "code",
   "execution_count": 3,
   "metadata": {},
   "outputs": [],
   "source": [
    "subset = data.sample(frac=0.1)\n",
    "subset.to_csv(\"tweets_10.csv\")"
   ]
  }
 ],
 "metadata": {
  "kernelspec": {
   "display_name": "venv",
   "language": "python",
   "name": "python3"
  },
  "language_info": {
   "codemirror_mode": {
    "name": "ipython",
    "version": 3
   },
   "file_extension": ".py",
   "mimetype": "text/x-python",
   "name": "python",
   "nbconvert_exporter": "python",
   "pygments_lexer": "ipython3",
   "version": "3.10.11"
  }
 },
 "nbformat": 4,
 "nbformat_minor": 2
}
